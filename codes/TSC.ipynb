{
 "cells": [
  {
   "cell_type": "code",
   "execution_count": 39,
   "metadata": {},
   "outputs": [],
   "source": [
    "#import necessary libraries\n",
    "import numpy as np\n",
    "import pandas as pd\n",
    "import matplotlib.pyplot as plt\n",
    "import seaborn as sns\n",
    "\n",
    "import torch    \n",
    "import torch.nn as nn\n",
    "import torch.nn.functional as F\n",
    "\n",
    "#set figure size\n",
    "sns.set(rc={'figure.figsize':(10,5)})\n",
    "#darkgrid, whitegrid, dark, white, and ticks\n",
    "sns.set_style(\"darkgrid\")"
   ]
  },
  {
   "cell_type": "code",
   "execution_count": 40,
   "metadata": {},
   "outputs": [
    {
     "data": {
      "text/plain": [
       "(1352580, 8)"
      ]
     },
     "execution_count": 40,
     "metadata": {},
     "output_type": "execute_result"
    }
   ],
   "source": [
    "df = pd.read_csv(r'D:\\vscode_workspace\\PracticeLab\\IMU_concat2.txt', sep='\\t', header = 0)\n",
    "\n",
    "df.shape"
   ]
  },
  {
   "cell_type": "code",
   "execution_count": 24,
   "metadata": {},
   "outputs": [
    {
     "name": "stdout",
     "output_type": "stream",
     "text": [
      "(3072, 946)\n"
     ]
    }
   ],
   "source": [
    "df_1 = pd.read_csv(r'D:\\个人文档\\各种文档\\04-快走-1.calc', header=2, delim_whitespace=True)\n",
    "\n",
    "print(df_1.shape)"
   ]
  },
  {
   "cell_type": "code",
   "execution_count": 54,
   "metadata": {},
   "outputs": [
    {
     "data": {
      "text/html": [
       "<div>\n",
       "<style scoped>\n",
       "    .dataframe tbody tr th:only-of-type {\n",
       "        vertical-align: middle;\n",
       "    }\n",
       "\n",
       "    .dataframe tbody tr th {\n",
       "        vertical-align: top;\n",
       "    }\n",
       "\n",
       "    .dataframe thead th {\n",
       "        text-align: right;\n",
       "    }\n",
       "</style>\n",
       "<table border=\"1\" class=\"dataframe\">\n",
       "  <thead>\n",
       "    <tr style=\"text-align: right;\">\n",
       "      <th></th>\n",
       "      <th>01-X-x</th>\n",
       "      <th>01-X-y</th>\n",
       "      <th>01-X-z</th>\n",
       "      <th>01-V-x</th>\n",
       "      <th>01-V-y</th>\n",
       "      <th>01-V-z</th>\n",
       "      <th>01-Q-s</th>\n",
       "      <th>01-Q-x</th>\n",
       "      <th>01-Q-y</th>\n",
       "      <th>01-Q-z</th>\n",
       "      <th>...</th>\n",
       "      <th>59-Q-s</th>\n",
       "      <th>59-Q-x</th>\n",
       "      <th>59-Q-y</th>\n",
       "      <th>59-Q-z</th>\n",
       "      <th>59-A-x</th>\n",
       "      <th>59-A-y</th>\n",
       "      <th>59-A-z</th>\n",
       "      <th>59-W-x</th>\n",
       "      <th>59-W-y</th>\n",
       "      <th>59-W-z</th>\n",
       "    </tr>\n",
       "  </thead>\n",
       "  <tbody>\n",
       "    <tr>\n",
       "      <th>0</th>\n",
       "      <td>1.1110</td>\n",
       "      <td>0.3511</td>\n",
       "      <td>0.8498</td>\n",
       "      <td>0.0008</td>\n",
       "      <td>0.0072</td>\n",
       "      <td>-2.8863</td>\n",
       "      <td>0.7354</td>\n",
       "      <td>0.0045</td>\n",
       "      <td>0.0034</td>\n",
       "      <td>0.6776</td>\n",
       "      <td>...</td>\n",
       "      <td>1.0</td>\n",
       "      <td>0.0</td>\n",
       "      <td>0.0</td>\n",
       "      <td>0.0</td>\n",
       "      <td>0.0</td>\n",
       "      <td>0.0</td>\n",
       "      <td>0.0</td>\n",
       "      <td>0.0</td>\n",
       "      <td>0.0</td>\n",
       "      <td>0.0</td>\n",
       "    </tr>\n",
       "    <tr>\n",
       "      <th>1</th>\n",
       "      <td>1.1109</td>\n",
       "      <td>0.3512</td>\n",
       "      <td>0.8500</td>\n",
       "      <td>-0.0054</td>\n",
       "      <td>0.0063</td>\n",
       "      <td>-2.8861</td>\n",
       "      <td>0.7355</td>\n",
       "      <td>0.0045</td>\n",
       "      <td>0.0034</td>\n",
       "      <td>0.6775</td>\n",
       "      <td>...</td>\n",
       "      <td>1.0</td>\n",
       "      <td>0.0</td>\n",
       "      <td>0.0</td>\n",
       "      <td>0.0</td>\n",
       "      <td>0.0</td>\n",
       "      <td>0.0</td>\n",
       "      <td>0.0</td>\n",
       "      <td>0.0</td>\n",
       "      <td>0.0</td>\n",
       "      <td>0.0</td>\n",
       "    </tr>\n",
       "    <tr>\n",
       "      <th>2</th>\n",
       "      <td>1.1108</td>\n",
       "      <td>0.3514</td>\n",
       "      <td>0.8502</td>\n",
       "      <td>-0.0006</td>\n",
       "      <td>0.0020</td>\n",
       "      <td>-2.8867</td>\n",
       "      <td>0.7355</td>\n",
       "      <td>0.0045</td>\n",
       "      <td>0.0033</td>\n",
       "      <td>0.6776</td>\n",
       "      <td>...</td>\n",
       "      <td>1.0</td>\n",
       "      <td>0.0</td>\n",
       "      <td>0.0</td>\n",
       "      <td>0.0</td>\n",
       "      <td>0.0</td>\n",
       "      <td>0.0</td>\n",
       "      <td>0.0</td>\n",
       "      <td>0.0</td>\n",
       "      <td>0.0</td>\n",
       "      <td>0.0</td>\n",
       "    </tr>\n",
       "    <tr>\n",
       "      <th>3</th>\n",
       "      <td>1.1107</td>\n",
       "      <td>0.3516</td>\n",
       "      <td>0.8504</td>\n",
       "      <td>-0.0016</td>\n",
       "      <td>0.0087</td>\n",
       "      <td>-2.8869</td>\n",
       "      <td>0.7355</td>\n",
       "      <td>0.0045</td>\n",
       "      <td>0.0033</td>\n",
       "      <td>0.6776</td>\n",
       "      <td>...</td>\n",
       "      <td>1.0</td>\n",
       "      <td>0.0</td>\n",
       "      <td>0.0</td>\n",
       "      <td>0.0</td>\n",
       "      <td>0.0</td>\n",
       "      <td>0.0</td>\n",
       "      <td>0.0</td>\n",
       "      <td>0.0</td>\n",
       "      <td>0.0</td>\n",
       "      <td>0.0</td>\n",
       "    </tr>\n",
       "    <tr>\n",
       "      <th>4</th>\n",
       "      <td>1.1106</td>\n",
       "      <td>0.3518</td>\n",
       "      <td>0.8506</td>\n",
       "      <td>-0.0023</td>\n",
       "      <td>0.0081</td>\n",
       "      <td>-2.8858</td>\n",
       "      <td>0.7355</td>\n",
       "      <td>0.0045</td>\n",
       "      <td>0.0033</td>\n",
       "      <td>0.6776</td>\n",
       "      <td>...</td>\n",
       "      <td>1.0</td>\n",
       "      <td>0.0</td>\n",
       "      <td>0.0</td>\n",
       "      <td>0.0</td>\n",
       "      <td>0.0</td>\n",
       "      <td>0.0</td>\n",
       "      <td>0.0</td>\n",
       "      <td>0.0</td>\n",
       "      <td>0.0</td>\n",
       "      <td>0.0</td>\n",
       "    </tr>\n",
       "  </tbody>\n",
       "</table>\n",
       "<p>5 rows × 946 columns</p>\n",
       "</div>"
      ],
      "text/plain": [
       "   01-X-x  01-X-y  01-X-z  01-V-x  01-V-y  01-V-z  01-Q-s  01-Q-x  01-Q-y  \\\n",
       "0  1.1110  0.3511  0.8498  0.0008  0.0072 -2.8863  0.7354  0.0045  0.0034   \n",
       "1  1.1109  0.3512  0.8500 -0.0054  0.0063 -2.8861  0.7355  0.0045  0.0034   \n",
       "2  1.1108  0.3514  0.8502 -0.0006  0.0020 -2.8867  0.7355  0.0045  0.0033   \n",
       "3  1.1107  0.3516  0.8504 -0.0016  0.0087 -2.8869  0.7355  0.0045  0.0033   \n",
       "4  1.1106  0.3518  0.8506 -0.0023  0.0081 -2.8858  0.7355  0.0045  0.0033   \n",
       "\n",
       "   01-Q-z  ...  59-Q-s  59-Q-x  59-Q-y  59-Q-z  59-A-x  59-A-y  59-A-z  \\\n",
       "0  0.6776  ...     1.0     0.0     0.0     0.0     0.0     0.0     0.0   \n",
       "1  0.6775  ...     1.0     0.0     0.0     0.0     0.0     0.0     0.0   \n",
       "2  0.6776  ...     1.0     0.0     0.0     0.0     0.0     0.0     0.0   \n",
       "3  0.6776  ...     1.0     0.0     0.0     0.0     0.0     0.0     0.0   \n",
       "4  0.6776  ...     1.0     0.0     0.0     0.0     0.0     0.0     0.0   \n",
       "\n",
       "   59-W-x  59-W-y  59-W-z  \n",
       "0     0.0     0.0     0.0  \n",
       "1     0.0     0.0     0.0  \n",
       "2     0.0     0.0     0.0  \n",
       "3     0.0     0.0     0.0  \n",
       "4     0.0     0.0     0.0  \n",
       "\n",
       "[5 rows x 946 columns]"
      ]
     },
     "execution_count": 54,
     "metadata": {},
     "output_type": "execute_result"
    }
   ],
   "source": [
    "df_1.head()"
   ]
  },
  {
   "cell_type": "code",
   "execution_count": 43,
   "metadata": {},
   "outputs": [
    {
     "data": {
      "text/plain": [
       "(7352, 128)"
      ]
     },
     "execution_count": 43,
     "metadata": {},
     "output_type": "execute_result"
    }
   ],
   "source": [
    "df_1 = pd.read_csv(r'D:\\vscode_workspace\\PracticeLab\\IMU\\code\\dataset\\UCI HAR Dataset\\train\\Inertial Signals\\body_acc_x_train.txt', header=None, delim_whitespace=True)\n",
    "\n",
    "df_1.shape\n",
    "\n",
    "# df_1 = pd.read_csv(r'D:\\vscode_workspace\\PracticeLab\\IMU\\code\\dataset\\UCI HAR Dataset\\train\\X_train.txt', header=None, delim_whitespace=True)\n",
    "\n",
    "# print(df_1.shape)\n",
    "\n",
    "# df_1.head(3)"
   ]
  },
  {
   "cell_type": "code",
   "execution_count": 41,
   "metadata": {},
   "outputs": [],
   "source": [
    "df = df.sort_values(by = ['user'], ignore_index=True)\n",
    "\n",
    "# train data -> Users upto User ID = 3 (i.e. 3 users)\n",
    "df_train = df[df['user'] <= 3]\n",
    "# test data -> Users ID = 4 (i.e. 1 users)\n",
    "df_test = df[df['user'] > 3]"
   ]
  },
  {
   "cell_type": "code",
   "execution_count": 42,
   "metadata": {},
   "outputs": [],
   "source": [
    "trainy = df_train.type\n",
    "testy = df_test.type"
   ]
  },
  {
   "cell_type": "code",
   "execution_count": 43,
   "metadata": {},
   "outputs": [],
   "source": [
    "trainX = df_train.drop(labels='type', axis=1)\n",
    "testX = df_test.drop(labels='type', axis=1)\n",
    "trainX = trainX.drop(labels='user', axis=1)\n",
    "testX = testX.drop(labels='user', axis=1)"
   ]
  },
  {
   "cell_type": "code",
   "execution_count": 44,
   "metadata": {},
   "outputs": [
    {
     "data": {
      "text/plain": [
       "((1003788, 6), (1003788,), (348792, 6), (348792,))"
      ]
     },
     "execution_count": 44,
     "metadata": {},
     "output_type": "execute_result"
    }
   ],
   "source": [
    "trainX.shape, trainy.shape, testX.shape, testy.shape"
   ]
  },
  {
   "cell_type": "code",
   "execution_count": 45,
   "metadata": {},
   "outputs": [],
   "source": [
    "from sklearn.model_selection import train_test_split\n",
    "from sklearn.preprocessing import LabelEncoder\n",
    "\n",
    "label_encoder = LabelEncoder()\n",
    "# np.unique(label_encoder.fit_transform(df_train.type))\n",
    "# label_encoder.fit_transform(df_test.type)\n",
    "\n",
    "trainy = label_encoder.fit_transform(df_train.type)\n",
    "testy = label_encoder.fit_transform(df_test.type)"
   ]
  },
  {
   "cell_type": "code",
   "execution_count": 46,
   "metadata": {},
   "outputs": [
    {
     "data": {
      "text/plain": [
       "((1003788, 6), (1003788,), (348792, 6), (348792,))"
      ]
     },
     "execution_count": 46,
     "metadata": {},
     "output_type": "execute_result"
    }
   ],
   "source": [
    "trainX.shape, trainy.shape, testX.shape, testy.shape"
   ]
  },
  {
   "cell_type": "code",
   "execution_count": null,
   "metadata": {},
   "outputs": [],
   "source": [
    "# index_list = list()\n",
    "\n",
    "for i in trainX.columns:\n",
    "    column = trainX.loc[:, i]\n",
    "    # if len(index_list) == 0:\n",
    "    index_list = index_list.append(column)\n",
    "    # else:\n",
    "    #     index_list = np.hstack(column)\n",
    "\n",
    "print(len(index_list))\n",
    "print(np.dstack(np.array(index_list)).shape)"
   ]
  },
  {
   "cell_type": "code",
   "execution_count": 18,
   "metadata": {},
   "outputs": [
    {
     "data": {
      "text/plain": [
       "(1, 6, 1003788)"
      ]
     },
     "execution_count": 18,
     "metadata": {},
     "output_type": "execute_result"
    }
   ],
   "source": [
    "np.dstack(np.array(trainX)).shape"
   ]
  },
  {
   "cell_type": "code",
   "execution_count": 29,
   "metadata": {},
   "outputs": [
    {
     "data": {
      "text/plain": [
       "0         -0.3320\n",
       "1         -0.1172\n",
       "2         -0.1172\n",
       "3         -0.1133\n",
       "4         -0.1133\n",
       "            ...  \n",
       "1003783    0.0000\n",
       "1003784    0.0000\n",
       "1003785    0.1571\n",
       "1003786    0.0175\n",
       "1003787    0.0524\n",
       "Name: A-x, Length: 1003788, dtype: float64"
      ]
     },
     "execution_count": 29,
     "metadata": {},
     "output_type": "execute_result"
    }
   ],
   "source": [
    "trainX.loc[:, trainX.columns[0]]"
   ]
  },
  {
   "cell_type": "code",
   "execution_count": 31,
   "metadata": {},
   "outputs": [
    {
     "data": {
      "text/plain": [
       "0         -0.3320\n",
       "1         -0.1172\n",
       "2         -0.1172\n",
       "3         -0.1133\n",
       "4         -0.1133\n",
       "            ...  \n",
       "1003783    0.0000\n",
       "1003784    0.0000\n",
       "1003785    0.1571\n",
       "1003786    0.0175\n",
       "1003787    0.0524\n",
       "Name: A-x, Length: 1003788, dtype: float64"
      ]
     },
     "execution_count": 31,
     "metadata": {},
     "output_type": "execute_result"
    }
   ],
   "source": [
    "trainX.loc[:, 'A-x']"
   ]
  },
  {
   "cell_type": "code",
   "execution_count": 35,
   "metadata": {},
   "outputs": [
    {
     "name": "stdout",
     "output_type": "stream",
     "text": [
      "6\n",
      "(6, 1003788)\n",
      "(6, 1003788)\n",
      "(1, 1003788, 6)\n"
     ]
    }
   ],
   "source": [
    "index_list = list()\n",
    "\n",
    "for i in trainX.columns:\n",
    "    column = trainX.loc[:, i]\n",
    "    index_list.append(column)\n",
    "\n",
    "print(len(index_list))\n",
    "print(np.array(trainX).T.shape)\n",
    "print(np.array(index_list).shape)\n",
    "print(np.dstack(np.array(index_list)).shape)"
   ]
  },
  {
   "cell_type": "code",
   "execution_count": 36,
   "metadata": {},
   "outputs": [
    {
     "name": "stdout",
     "output_type": "stream",
     "text": [
      "(6, 1003788, 1)\n"
     ]
    }
   ],
   "source": [
    "print(np.array(trainX).T.reshape(np.array(trainX).T.shape[0], np.array(trainX).T.shape[1], 1).shape)"
   ]
  },
  {
   "cell_type": "code",
   "execution_count": 17,
   "metadata": {},
   "outputs": [
    {
     "data": {
      "text/plain": [
       "(6022728,)"
      ]
     },
     "execution_count": 17,
     "metadata": {},
     "output_type": "execute_result"
    }
   ],
   "source": [
    "np.hstack(np.array(trainX)).shape"
   ]
  },
  {
   "cell_type": "code",
   "execution_count": 6,
   "metadata": {},
   "outputs": [
    {
     "name": "stdout",
     "output_type": "stream",
     "text": [
      "before dstack\n",
      "(1003788, 6) (1003788,)\n",
      "after dstack\n",
      "(1003788, 1, 6) (1, 1, 1003788)\n",
      "loading\n",
      "(1003788, 1, 6) (1003788, 4) (348792, 6) (348792, 4)\n",
      "after load:\n",
      "(1003788, 1, 6) (1003788, 4) (348792, 6) (348792, 4)\n",
      "(1003788, 1, 6)\n"
     ]
    },
    {
     "ename": "IndexError",
     "evalue": "Dimension out of range (expected to be in range of [-2, 1], but got 2)",
     "output_type": "error",
     "traceback": [
      "\u001b[1;31m---------------------------------------------------------------------------\u001b[0m",
      "\u001b[1;31mIndexError\u001b[0m                                Traceback (most recent call last)",
      "Cell \u001b[1;32mIn [6], line 194\u001b[0m\n\u001b[0;32m    192\u001b[0m trainyT \u001b[38;5;241m=\u001b[39m torch\u001b[38;5;241m.\u001b[39mfrom_numpy(trainy)\u001b[38;5;241m.\u001b[39mfloat()\n\u001b[0;32m    193\u001b[0m testXT \u001b[38;5;241m=\u001b[39m torch\u001b[38;5;241m.\u001b[39mfrom_numpy(testX)\n\u001b[1;32m--> 194\u001b[0m testXT \u001b[38;5;241m=\u001b[39m \u001b[43mtestXT\u001b[49m\u001b[38;5;241;43m.\u001b[39;49m\u001b[43mtranspose\u001b[49m\u001b[43m(\u001b[49m\u001b[38;5;241;43m1\u001b[39;49m\u001b[43m,\u001b[49m\u001b[38;5;241;43m2\u001b[39;49m\u001b[43m)\u001b[49m\u001b[38;5;241m.\u001b[39mfloat()\n\u001b[0;32m    195\u001b[0m testyT \u001b[38;5;241m=\u001b[39m torch\u001b[38;5;241m.\u001b[39mfrom_numpy(testy)\u001b[38;5;241m.\u001b[39mfloat()\n\u001b[0;32m    196\u001b[0m num_epochs \u001b[38;5;241m=\u001b[39m \u001b[38;5;241m50\u001b[39m\n",
      "\u001b[1;31mIndexError\u001b[0m: Dimension out of range (expected to be in range of [-2, 1], but got 2)"
     ]
    }
   ],
   "source": [
    "import pandas as pd\n",
    "import numpy as np\n",
    "import torch\n",
    "import torch.nn as nn\n",
    "import matplotlib\n",
    "# matplotlib.use('TkAgg')\n",
    "import matplotlib.pyplot as plt\n",
    "from sklearn.model_selection import train_test_split\n",
    "from sklearn.preprocessing import LabelEncoder\n",
    "\n",
    "# load a single file as a numpy array\n",
    "# def load_file(filepath):\n",
    "#     dataframe = pd.read_csv(filepath, header=None, delim_whitespace=True)\n",
    "#     return dataframe.values\n",
    "\n",
    "# load a list of files into a 3D array of [samples, timesteps, features]\n",
    "# def load_group(filenames, prefix=''):\n",
    "#     # group train, test\n",
    "#     # prefix -> 'D:/vscode_workspace/PracticeLab/IMU/code/dataset/UCI HAR Dataset/group/Inertial Signals/'\n",
    "#     loaded = list()\n",
    "#     for name in filenames:\n",
    "#         data = load_file(prefix + name)\n",
    "#         loaded.append(data)\n",
    "#     # stack group so that features are the 3rd dimension\n",
    "#     loaded = np.dstack(loaded)\n",
    "#     print('loaded.shape:', loaded.shape)\n",
    "#     return loaded  # loaded.shape: (7352, 128, 9)\n",
    "\n",
    "# load a dataset group, such as train or test\n",
    "# def load_dataset_group(group, prefix=''):\n",
    "#     # prefix -> 'D:/vscode_workspace/PracticeLab/IMU/code/dataset/UCI HAR Dataset/'\n",
    "#     # group train, test\n",
    "#     filepath = prefix + group + '/Inertial Signals/' # get the signals path\n",
    "#     # load all 9 files as a single array\n",
    "#     filenames = list()\n",
    "#     # total acceleration\n",
    "#     filenames += ['total_acc_x_' + group + '.txt', 'total_acc_y_' + group + '.txt', 'total_acc_z_' + group + '.txt']\n",
    "#     # body acceleration\n",
    "#     filenames += ['body_acc_x_' + group + '.txt', 'body_acc_y_' + group + '.txt', 'body_acc_z_' + group + '.txt']\n",
    "#     # body gyroscope\n",
    "#     filenames += ['body_gyro_x_' + group + '.txt', 'body_gyro_y_' + group + '.txt', 'body_gyro_z_' + group + '.txt']\n",
    "#     # filenames save all signals' filename\n",
    "#     # load input data\n",
    "#     X = load_group(filenames, filepath) # loaded.shape: (7352, 128, 9) train,   loaded.shape: (2947, 128, 9)  test\n",
    "#     # load class output\n",
    "#     y = load_file(prefix + group + '/y_' + group + '.txt') # y_train.txt, y_test.txt\n",
    "#     return X, y # X_train y_train;  X_test, y_test\n",
    "\n",
    "def to_categorical(y, num_classes=None, dtype='float32'):\n",
    "    \"\"\"Converts a class vector (integers) to binary class matrix.\n",
    "    E.g. for use with categorical_crossentropy.\n",
    "    # Arguments\n",
    "        y: class vector to be converted into a matrix\n",
    "            (integers from 0 to num_classes).\n",
    "        num_classes: total number of classes.\n",
    "        dtype: The data type expected by the input, as a string\n",
    "            (`float32`, `float64`, `int32`...)\n",
    "    # Returns\n",
    "        A binary matrix representation of the input. The classes axis\n",
    "        is placed last.\n",
    "    # Example\n",
    "    ```python\n",
    "    # Consider an array of 5 labels out of a set of 3 classes {0, 1, 2}:\n",
    "    > labels\n",
    "    array([0, 2, 1, 2, 0])\n",
    "    # `to_categorical` converts this into a matrix with as many\n",
    "    # columns as there are classes. The number of rows\n",
    "    # stays the same.\n",
    "    > to_categorical(labels)\n",
    "    array([[ 1.,  0.,  0.],\n",
    "           [ 0.,  0.,  1.],\n",
    "           [ 0.,  1.,  0.],\n",
    "           [ 0.,  0.,  1.],\n",
    "           [ 1.,  0.,  0.]], dtype=float32)\n",
    "    ```\n",
    "    \"\"\"\n",
    "\n",
    "    y = np.array(y, dtype='int')\n",
    "    input_shape = y.shape\n",
    "    if input_shape and input_shape[-1] == 1 and len(input_shape) > 1:\n",
    "        input_shape = tuple(input_shape[:-1])\n",
    "    y = y.ravel()\n",
    "    if not num_classes:\n",
    "        num_classes = np.max(y) + 1\n",
    "    n = y.shape[0]\n",
    "    categorical = np.zeros((n, num_classes), dtype=dtype)\n",
    "    categorical[np.arange(n), y] = 1\n",
    "    output_shape = input_shape + (num_classes,)\n",
    "    categorical = np.reshape(categorical, output_shape)\n",
    "    return categorical\n",
    "\n",
    "# load the dataset, returns train and test X and y elements\n",
    "# prefix -> 'D:/vscode_workspace/PracticeLab/IMU/code/dataset/UCI HAR Dataset/'\n",
    "def load_dataset(prefix=''):\n",
    "    df = pd.read_csv(r'D:\\vscode_workspace\\PracticeLab\\IMU_concat2.txt', sep='\\t', header = 0)\n",
    "    df = df.sort_values(by = ['user'], ignore_index=True)\n",
    "    # train data -> Users upto User ID = 3 (i.e. 3 users)\n",
    "    df_train = df[df['user'] <= 3]\n",
    "    # test data -> Users ID = 4 (i.e. 1 users)\n",
    "    df_test = df[df['user'] > 3]\n",
    "    trainy = df_train.type\n",
    "    testy = df_test.type\n",
    "    trainX = df_train.drop(labels='type', axis=1)\n",
    "    testX = df_test.drop(labels='type', axis=1)\n",
    "    trainX = trainX.drop(labels='user', axis=1)\n",
    "    testX = testX.drop(labels='user', axis=1)\n",
    "\n",
    "    print('before dstack')\n",
    "    print(trainX.shape, trainy.shape)\n",
    "\n",
    "    # trainX = np.array(trainX)\n",
    "    # testX = np.array(testX)\n",
    "    trainX = np.array(trainX).reshape(trainX.shape[1], trainX.shape[0], 1)\n",
    "    testX = np.array(testX)\n",
    "\n",
    "    trainX = np.dstack(trainX)\n",
    "    trainy = np.dstack(trainy)\n",
    "    print('after dstack')\n",
    "    print(trainX.shape, trainy.shape)\n",
    "\n",
    "    # testX = np.dstack(testX)\n",
    "    # testy = np.dstack(testy)\n",
    "    testX = testX.reshape(testX.shape[0], -1)\n",
    "    testy = np.array(testy).reshape(testy.shape[0], -1)\n",
    "\n",
    "    label_encoder = LabelEncoder()\n",
    "    trainy = label_encoder.fit_transform(df_train.type)\n",
    "    testy = label_encoder.fit_transform(df_test.type)   \n",
    "    \n",
    "    # load all train\n",
    "    # trainX, trainy = load_dataset_group('train', prefix)\n",
    "    # print(trainX.shape, trainy.shape)\n",
    "    # load all test\n",
    "    # testX, testy = load_dataset_group('test', prefix)\n",
    "    # print(testX.shape, testy.shape)\n",
    "    # zero-offset class values\n",
    "    # trainy = trainy - 1\n",
    "    # testy = testy - 1\n",
    "    # one hot encode y\n",
    "    trainy = to_categorical(trainy)\n",
    "    testy = to_categorical(testy)\n",
    "    print('loading')\n",
    "    print(trainX.shape, trainy.shape, testX.shape, testy.shape)\n",
    "    return trainX, trainy, testX, testy\n",
    "\n",
    "# load data set and split into training and testing inputs (X) and outputs (y)\n",
    "# trainX, trainy, testX, testy = load_dataset('D:/vscode_workspace/PracticeLab/IMU/code/dataset/UCI HAR Dataset/')\n",
    "trainX, trainy, testX, testy = load_dataset()\n",
    "print('after load:')\n",
    "print(trainX.shape, trainy.shape, testX.shape, testy.shape)\n",
    "\n",
    "n_timesteps, n_features, n_outputs = trainX.shape[1], trainX.shape[2], trainy.shape[1]\n",
    "\n",
    "# define the model using pytorch\n",
    "class ConvNet1D(nn.Module):\n",
    "    def __init__(self):\n",
    "        super().__init__()\n",
    "        self.layer1 = nn.Sequential(\n",
    "            nn.Conv1d(n_features, 64, kernel_size=3),\n",
    "            nn.ReLU(),\n",
    "            nn.Dropout(0.5),\n",
    "            nn.MaxPool1d(10))\n",
    "        self.layer2 = nn.Flatten()\n",
    "        self.layer3 = nn.Sequential(\n",
    "            nn.Linear(768,100),\n",
    "            nn.ReLU())\n",
    "        self.layer4 = nn.Sequential(\n",
    "            # nn.Linear(100,6),\n",
    "            nn.Linear(100,4),\n",
    "            nn.Softmax())\n",
    "\n",
    "    def forward(self, x):\n",
    "        out = self.layer1(x)\n",
    "        out = self.layer2(out)\n",
    "        out = self.layer3(out)\n",
    "        out = self.layer4(out)\n",
    "        return out\n",
    "\n",
    "model = ConvNet1D()\n",
    "# Loss and optimizer\n",
    "criterion = nn.CrossEntropyLoss()\n",
    "optimizer = torch.optim.Adam(model.parameters(), lr=0.001)\n",
    "\n",
    "# Train the model\n",
    "# total_step = len(trainX)\n",
    "total_step = trainX.shape[2]\n",
    "print(trainX.shape)\n",
    "\n",
    "# transformation of data into torch tensors\n",
    "trainXT = torch.from_numpy(trainX)\n",
    "trainXT = trainXT.transpose(1,2).float() #input is (N, Cin, Lin) = Ntimesteps, Nfeatures, 128\n",
    "trainyT = torch.from_numpy(trainy).float()\n",
    "testXT = torch.from_numpy(testX)\n",
    "testXT = testXT.transpose(1,2).float()\n",
    "testyT = torch.from_numpy(testy).float()\n",
    "num_epochs = 50\n",
    "batch_size = 98\n",
    "\n",
    "loss_list = []\n",
    "acc_list = []\n",
    "acc_list_epoch = []\n",
    "for epoch in range(num_epochs):\n",
    "    correct_sum = 0\n",
    "    for i in range(int(np.floor(total_step/batch_size))): # split data into batches\n",
    "        trainXT_seg = trainXT[i*batch_size:(i+1)*batch_size]\n",
    "        trainyT_seg = trainyT[i*batch_size:(i+1)*batch_size]\n",
    "        # Run the forward pass\n",
    "        outputs = model(trainXT_seg)\n",
    "        loss = criterion(outputs, torch.max(trainyT_seg, 1)[1])\n",
    "        loss_list.append(loss.item())\n",
    "\n",
    "        # Backprop and perform Adam optimisation\n",
    "        optimizer.zero_grad()\n",
    "        loss.backward()\n",
    "        optimizer.step()\n",
    "        # Track the accuracy\n",
    "        total = trainyT_seg.size(0)\n",
    "        _, predicted = torch.max(outputs, 1)\n",
    "        _, actual = torch.max(trainyT_seg, 1)\n",
    "        correct = (predicted == actual).sum().item()\n",
    "        correct_sum = correct_sum + (correct/total)\n",
    "        acc_list.append(correct / total)\n",
    "    print(\"Epoch\")\n",
    "    print(epoch)\n",
    "    print(\"accuracy\")\n",
    "    accuracy = correct_sum/int(np.floor(total_step/batch_size))\n",
    "    print(accuracy)\n",
    "    # print(correct_sum/int(np.floor(total_step/batch_size)))\n",
    "    acc_list_epoch.append(correct_sum/int(np.floor(total_step/batch_size)))\n",
    "    # acc_list_epoch.append(correct_sum/int(np.ceil(total_step/batch_size)))\n",
    "\n",
    "#plot the training accuracy\n",
    "plt.title('Training Accuracy')\n",
    "plt.ylabel('Accuracy')\n",
    "plt.xlabel('Epoch')\n",
    "plt.grid(True)\n",
    "plt.autoscale(axis='x', tight=True)\n",
    "plt.plot(acc_list_epoch)\n",
    "plt.show()\n",
    "\n",
    "# Test the model\n",
    "model.eval()\n",
    "with torch.no_grad():\n",
    "    test_outputs = model(testXT)\n",
    "    _, predictedt = torch.max(test_outputs, 1)\n",
    "    _, actual = torch.max(testyT, 1)\n",
    "    total_t = testyT.size(0)\n",
    "    correct_t = (predictedt == actual).sum().item()\n",
    "    print('Test accuracy:')\n",
    "    print((correct_t/total_t)*100)"
   ]
  },
  {
   "cell_type": "code",
   "execution_count": 4,
   "metadata": {},
   "outputs": [
    {
     "data": {
      "text/plain": [
       "array([[[1, 2],\n",
       "        [2, 4],\n",
       "        [3, 5]]])"
      ]
     },
     "execution_count": 4,
     "metadata": {},
     "output_type": "execute_result"
    }
   ],
   "source": [
    "arr = np.array([[1, 2, 3], [2, 4, 5]])\n",
    "\n",
    "np.dstack(arr)"
   ]
  },
  {
   "cell_type": "markdown",
   "metadata": {},
   "source": [
    "#### np.dstack\n",
    "按深度顺序堆叠arrays。当数组为2维数组(M,N)或1维数组(N,)时，</br>\n",
    "首先分别将其维度改变为(M,N,1)、(1,N,1)，然后沿着第三根轴(r/g/b通道)进行拼接。"
   ]
  },
  {
   "cell_type": "code",
   "execution_count": 15,
   "metadata": {},
   "outputs": [
    {
     "name": "stdout",
     "output_type": "stream",
     "text": [
      "[[[1 3]\n",
      "  [2 4]]]\n",
      "-------------------------\n",
      "[[[1 4]\n",
      "  [1 4]]\n",
      "\n",
      " [[2 5]\n",
      "  [2 5]]\n",
      "\n",
      " [[3 6]\n",
      "  [3 6]]]\n",
      "(3, 2, 2)\n"
     ]
    }
   ],
   "source": [
    "# 一维\n",
    "a = np.array([1, 2])\n",
    "b = np.array([3, 4])\n",
    "print(np.dstack((a,b)))\n",
    " \n",
    "# 二维\n",
    "a = np.array([[1, 1],\n",
    "              [2, 2],\n",
    "              [3, 3]])\n",
    "b = np.array([[4, 4],\n",
    "              [5, 5],\n",
    "              [6, 6]])\n",
    "print('-------------------------')\n",
    "print(np.dstack((a,b)))\n",
    "print(np.dstack((a,b)).shape)"
   ]
  },
  {
   "cell_type": "markdown",
   "metadata": {},
   "source": [
    "#### np.hstack()\n",
    "水平方向（列）顺序堆叠arrays。"
   ]
  },
  {
   "cell_type": "code",
   "execution_count": 11,
   "metadata": {},
   "outputs": [
    {
     "name": "stdout",
     "output_type": "stream",
     "text": [
      "[1 2 3 4]\n",
      "[[1 1 4 4]\n",
      " [2 2 5 5]\n",
      " [3 3 6 6]]\n",
      "(3, 4)\n"
     ]
    }
   ],
   "source": [
    "import numpy as np\n",
    " \n",
    "# 一维\n",
    "a = np.array([1, 2])\n",
    "b = np.array([3, 4])\n",
    "print(np.hstack((a,b)))\n",
    " \n",
    "# 二维\n",
    "a = np.array([[1, 1],\n",
    "              [2, 2],\n",
    "              [3, 3]])\n",
    "b = np.array([[4, 4],\n",
    "              [5, 5],\n",
    "              [6, 6]])\n",
    "print(np.hstack((a,b)))\n",
    "print(np.hstack((a,b)).shape)"
   ]
  },
  {
   "cell_type": "markdown",
   "metadata": {},
   "source": [
    "#### np.vstack()\n",
    "垂直方向（行）顺序堆叠arrays。"
   ]
  },
  {
   "cell_type": "code",
   "execution_count": 7,
   "metadata": {},
   "outputs": [
    {
     "name": "stdout",
     "output_type": "stream",
     "text": [
      "[[1 2]\n",
      " [3 4]]\n",
      "[[1 1]\n",
      " [2 2]\n",
      " [3 3]\n",
      " [4 4]\n",
      " [5 5]\n",
      " [6 6]]\n"
     ]
    }
   ],
   "source": [
    "# 一维\n",
    "a = np.array([1, 2])\n",
    "b = np.array([3, 4])\n",
    "print(np.vstack((a,b)))\n",
    " \n",
    "# 二维\n",
    "a = np.array([[1, 1],\n",
    "              [2, 2],\n",
    "              [3, 3]])\n",
    "b = np.array([[4, 4],\n",
    "              [5, 5],\n",
    "              [6, 6]])\n",
    "print(np.vstack((a,b)))"
   ]
  },
  {
   "cell_type": "code",
   "execution_count": 37,
   "metadata": {},
   "outputs": [
    {
     "data": {
      "text/plain": [
       "0.0"
      ]
     },
     "execution_count": 37,
     "metadata": {},
     "output_type": "execute_result"
    }
   ],
   "source": [
    "np.floor(1/98)"
   ]
  },
  {
   "cell_type": "code",
   "execution_count": 39,
   "metadata": {},
   "outputs": [
    {
     "data": {
      "text/plain": [
       "1.0"
      ]
     },
     "execution_count": 39,
     "metadata": {},
     "output_type": "execute_result"
    }
   ],
   "source": [
    "np.ceil(1/98)"
   ]
  },
  {
   "cell_type": "code",
   "execution_count": 34,
   "metadata": {},
   "outputs": [
    {
     "name": "stdout",
     "output_type": "stream",
     "text": [
      "test:(1003788, 6)\n"
     ]
    }
   ],
   "source": [
    "print(\"test:{}\".format(trainX.shape))"
   ]
  },
  {
   "cell_type": "code",
   "execution_count": 46,
   "metadata": {},
   "outputs": [
    {
     "name": "stdout",
     "output_type": "stream",
     "text": [
      "dataframe.shape:(7352, 128)\n",
      "dataframe.shape:(7352, 128)\n",
      "dataframe.shape:(7352, 128)\n",
      "dataframe.shape:(7352, 128)\n",
      "dataframe.shape:(7352, 128)\n",
      "dataframe.shape:(7352, 128)\n",
      "dataframe.shape:(7352, 128)\n",
      "dataframe.shape:(7352, 128)\n",
      "dataframe.shape:(7352, 128)\n",
      "load_group before dstack:(9, 7352, 128)\n",
      "load_group after dstack:(7352, 128, 9)\n",
      "dataframe.shape:(7352, 1)\n",
      "line 42, y:(7352, 1)\n",
      "line 91,after load_dataset_group train x,y shape:(7352, 128, 9),(7352, 1)\n",
      "dataframe.shape:(2947, 128)\n",
      "dataframe.shape:(2947, 128)\n",
      "dataframe.shape:(2947, 128)\n",
      "dataframe.shape:(2947, 128)\n",
      "dataframe.shape:(2947, 128)\n",
      "dataframe.shape:(2947, 128)\n",
      "dataframe.shape:(2947, 128)\n",
      "dataframe.shape:(2947, 128)\n",
      "dataframe.shape:(2947, 128)\n",
      "load_group before dstack:(9, 2947, 128)\n",
      "load_group after dstack:(2947, 128, 9)\n",
      "dataframe.shape:(2947, 1)\n",
      "line 42, y:(2947, 1)\n",
      "line 94,after load_dataset_group test x,y shape:(2947, 128, 9),(2947, 1)\n",
      "(7352, 128, 9) (7352, 6) (2947, 128, 9) (2947, 6)\n",
      "<class 'numpy.ndarray'> <class 'numpy.ndarray'>\n",
      "after load_dataset, shape of all: (7352, 128, 9) (7352, 6) (2947, 128, 9) (2947, 6)\n",
      "shape of all: (7352, 128, 9) (7352, 6) (2947, 128, 9) (2947, 6)\n",
      "trainXT.shape: torch.Size([7352, 9, 128]), trainyT.shape: torch.Size([7352, 6]), testXT.shape:torch.Size([2947, 9, 128]), testyT.shape:torch.Size([2947, 6])\n"
     ]
    },
    {
     "name": "stderr",
     "output_type": "stream",
     "text": [
      "d:\\python\\lib\\site-packages\\torch\\nn\\modules\\container.py:204: UserWarning: Implicit dimension choice for softmax has been deprecated. Change the call to include dim=X as an argument.\n",
      "  input = module(input)\n"
     ]
    },
    {
     "name": "stdout",
     "output_type": "stream",
     "text": [
      "Epoch: 0\n",
      "accuracy: 0.6027565502183406\n",
      "Epoch: 1\n",
      "accuracy: 0.767603711790393\n",
      "Epoch: 2\n",
      "accuracy: 0.8388373362445415\n",
      "Epoch: 3\n",
      "accuracy: 0.8751364628820961\n",
      "Epoch: 4\n",
      "accuracy: 0.9055676855895196\n",
      "Epoch: 5\n",
      "accuracy: 0.9059770742358079\n",
      "Epoch: 6\n",
      "accuracy: 0.9245360262008734\n",
      "Epoch: 7\n",
      "accuracy: 0.9358624454148472\n",
      "Epoch: 8\n",
      "accuracy: 0.9429585152838428\n",
      "Epoch: 9\n",
      "accuracy: 0.9425491266375546\n",
      "Epoch: 10\n",
      "accuracy: 0.9001091703056768\n",
      "Epoch: 11\n",
      "accuracy: 0.9455513100436681\n",
      "Epoch: 12\n",
      "accuracy: 0.9463700873362445\n",
      "Epoch: 13\n",
      "accuracy: 0.9496451965065502\n",
      "Epoch: 14\n",
      "accuracy: 0.9531932314410481\n",
      "Epoch: 15\n",
      "accuracy: 0.9542849344978166\n",
      "Epoch: 16\n",
      "accuracy: 0.9537390829694323\n",
      "Epoch: 17\n",
      "accuracy: 0.9531932314410481\n",
      "Epoch: 18\n",
      "accuracy: 0.9515556768558951\n",
      "Epoch: 19\n",
      "accuracy: 0.9552401746724891\n",
      "Epoch: 20\n",
      "accuracy: 0.863400655021834\n",
      "Epoch: 21\n",
      "accuracy: 0.9072052401746725\n",
      "Epoch: 22\n",
      "accuracy: 0.9480076419213974\n",
      "Epoch: 23\n",
      "accuracy: 0.9443231441048034\n",
      "Epoch: 24\n",
      "accuracy: 0.9516921397379913\n",
      "Epoch: 25\n",
      "accuracy: 0.9493722707423581\n",
      "Epoch: 26\n",
      "accuracy: 0.9514192139737991\n",
      "Epoch: 27\n",
      "accuracy: 0.9441866812227074\n",
      "Epoch: 28\n",
      "accuracy: 0.9544213973799127\n",
      "Epoch: 29\n",
      "accuracy: 0.9529203056768559\n",
      "Epoch: 30\n",
      "accuracy: 0.9536026200873362\n",
      "Epoch: 31\n",
      "accuracy: 0.9527838427947598\n",
      "Epoch: 32\n",
      "accuracy: 0.9540120087336245\n",
      "Epoch: 33\n",
      "accuracy: 0.9553766375545851\n",
      "Epoch: 34\n",
      "accuracy: 0.9499181222707423\n",
      "Epoch: 35\n",
      "accuracy: 0.9555131004366813\n",
      "Epoch: 36\n",
      "accuracy: 0.9541484716157205\n",
      "Epoch: 37\n",
      "accuracy: 0.9485534934497817\n",
      "Epoch: 38\n",
      "accuracy: 0.9510098253275109\n",
      "Epoch: 39\n",
      "accuracy: 0.9527838427947598\n",
      "Epoch: 40\n",
      "accuracy: 0.957150655021834\n",
      "Epoch: 41\n",
      "accuracy: 0.9477347161572053\n",
      "Epoch: 42\n",
      "accuracy: 0.9534661572052402\n",
      "Epoch: 43\n",
      "accuracy: 0.9545578602620087\n",
      "Epoch: 44\n",
      "accuracy: 0.957150655021834\n",
      "Epoch: 45\n",
      "accuracy: 0.9560589519650655\n",
      "Epoch: 46\n",
      "accuracy: 0.9576965065502183\n",
      "Epoch: 47\n",
      "accuracy: 0.9563318777292577\n",
      "Epoch: 48\n",
      "accuracy: 0.9561954148471615\n",
      "Epoch: 49\n",
      "accuracy: 0.9575600436681223\n"
     ]
    },
    {
     "data": {
      "image/png": "[encoded data removed]",
      "text/plain": [
       "<Figure size 640x480 with 1 Axes>"
      ]
     },
     "metadata": {},
     "output_type": "display_data"
    },
    {
     "name": "stdout",
     "output_type": "stream",
     "text": [
      "Test accuracy: 87.71632168306752\n"
     ]
    }
   ],
   "source": [
    "import pandas as pd\n",
    "import numpy as np\n",
    "import torch\n",
    "import torch.nn as nn\n",
    "import matplotlib\n",
    "# matplotlib.use('TkAgg')\n",
    "import matplotlib.pyplot as plt\n",
    "\n",
    "# load a single file as a numpy array\n",
    "def load_file(filepath):\n",
    "    dataframe = pd.read_csv(filepath, header=None, delim_whitespace=True)\n",
    "    print(\"dataframe.shape:{}\".format(dataframe.shape))\n",
    "    return dataframe.values\n",
    "\n",
    "# load a list of files into a 3D array of [samples, timesteps, features]\n",
    "def load_group(filenames, prefix=''):\n",
    "    loaded = list()\n",
    "    for name in filenames:\n",
    "        data = load_file(prefix + name)\n",
    "        loaded.append(data)\n",
    "    # stack group so that features are the 3rd dimension\n",
    "    print('load_group before dstack:{}'.format(np.shape(loaded)))\n",
    "    loaded = np.dstack(loaded)\n",
    "    print('load_group after dstack:{}'.format(np.shape(loaded)))\n",
    "    return loaded\n",
    "\n",
    "# load a dataset group, such as train or test\n",
    "def load_dataset_group(group, prefix=''):\n",
    "    filepath = prefix + group + '/Inertial Signals/'\n",
    "    # load all 9 files as a single array\n",
    "    filenames = list()\n",
    "    # total acceleration\n",
    "    filenames += ['total_acc_x_' + group + '.txt', 'total_acc_y_' + group + '.txt', 'total_acc_z_' + group + '.txt']\n",
    "    # body acceleration\n",
    "    filenames += ['body_acc_x_' + group + '.txt', 'body_acc_y_' + group + '.txt', 'body_acc_z_' + group + '.txt']\n",
    "    # body gyroscope\n",
    "    filenames += ['body_gyro_x_' + group + '.txt', 'body_gyro_y_' + group + '.txt', 'body_gyro_z_' + group + '.txt']\n",
    "    # load input data\n",
    "    X = load_group(filenames, filepath)\n",
    "    # load class output\n",
    "    y = load_file(prefix + group + '/y_' + group + '.txt')\n",
    "    print(\"line 42, y:{}\".format(y.shape))\n",
    "    return X, y\n",
    "\n",
    "def to_categorical(y, num_classes=None, dtype='float32'):\n",
    "    \"\"\"Converts a class vector (integers) to binary class matrix.\n",
    "    E.g. for use with categorical_crossentropy.\n",
    "    # Arguments\n",
    "        y: class vector to be converted into a matrix\n",
    "            (integers from 0 to num_classes).\n",
    "        num_classes: total number of classes.\n",
    "        dtype: The data type expected by the input, as a string\n",
    "            (`float32`, `float64`, `int32`...)\n",
    "    # Returns\n",
    "        A binary matrix representation of the input. The classes axis\n",
    "        is placed last.\n",
    "    # Example\n",
    "    ```python\n",
    "    # Consider an array of 5 labels out of a set of 3 classes {0, 1, 2}:\n",
    "    > labels\n",
    "    array([0, 2, 1, 2, 0])\n",
    "    # `to_categorical` converts this into a matrix with as many\n",
    "    # columns as there are classes. The number of rows\n",
    "    # stays the same.\n",
    "    > to_categorical(labels)\n",
    "    array([[ 1.,  0.,  0.],\n",
    "           [ 0.,  0.,  1.],\n",
    "           [ 0.,  1.,  0.],\n",
    "           [ 0.,  0.,  1.],\n",
    "           [ 1.,  0.,  0.]], dtype=float32)\n",
    "    ```\n",
    "    \"\"\"\n",
    "\n",
    "    y = np.array(y, dtype='int')\n",
    "    input_shape = y.shape\n",
    "    if input_shape and input_shape[-1] == 1 and len(input_shape) > 1:\n",
    "        input_shape = tuple(input_shape[:-1])\n",
    "    y = y.ravel()\n",
    "    if not num_classes:\n",
    "        num_classes = np.max(y) + 1\n",
    "    n = y.shape[0]\n",
    "    categorical = np.zeros((n, num_classes), dtype=dtype)\n",
    "    categorical[np.arange(n), y] = 1\n",
    "    output_shape = input_shape + (num_classes,)\n",
    "    categorical = np.reshape(categorical, output_shape)\n",
    "    return categorical\n",
    "\n",
    "# load the dataset, returns train and test X and y elements\n",
    "def load_dataset(prefix=''):\n",
    "    # load all train\n",
    "    trainX, trainy = load_dataset_group('train', prefix)\n",
    "    print('line 91,after load_dataset_group train x,y shape:{},{}'.format(trainX.shape, trainy.shape))\n",
    "    # load all test\n",
    "    testX, testy = load_dataset_group('test', prefix)\n",
    "    print('line 94,after load_dataset_group test x,y shape:{},{}'.format(testX.shape, testy.shape))\n",
    "    # zero-offset class values\n",
    "    trainy = trainy - 1\n",
    "    testy = testy - 1\n",
    "    # one hot encode y\n",
    "    trainy = to_categorical(trainy)\n",
    "    testy = to_categorical(testy)\n",
    "    print(trainX.shape, trainy.shape, testX.shape, testy.shape)\n",
    "    print(type(trainy), type(testy))\n",
    "    return trainX, trainy, testX, testy\n",
    "\n",
    "# load data set and split into training and testing inputs (X) and outputs (y)\n",
    "trainX, trainy, testX, testy = load_dataset('D:/vscode_workspace/PracticeLab/IMU/code/dataset/UCI HAR Dataset/')\n",
    "\n",
    "print(\"after load_dataset, shape of all: {} {} {} {}\".format(trainX.shape, trainy.shape, testX.shape, testy.shape))\n",
    "\n",
    "n_timesteps, n_features, n_outputs = trainX.shape[1], trainX.shape[2], trainy.shape[1]\n",
    "\n",
    "# define the model using pytorch\n",
    "class ConvNet1D(nn.Module):\n",
    "    def __init__(self):\n",
    "        super().__init__()\n",
    "        self.layer1 = nn.Sequential(\n",
    "            nn.Conv1d(n_features, 64, kernel_size=3),\n",
    "            nn.ReLU(),\n",
    "            nn.Dropout(0.5),\n",
    "            nn.MaxPool1d(10))\n",
    "        self.layer2 = nn.Flatten()\n",
    "        self.layer3 = nn.Sequential(\n",
    "            nn.Linear(768,100),\n",
    "            nn.ReLU())\n",
    "        self.layer4 = nn.Sequential(\n",
    "            nn.Linear(100,6),\n",
    "            nn.Softmax())\n",
    "\n",
    "    def forward(self, x):\n",
    "        out = self.layer1(x)\n",
    "        out = self.layer2(out)\n",
    "        out = self.layer3(out)\n",
    "        out = self.layer4(out)\n",
    "        return out\n",
    "\n",
    "model = ConvNet1D()\n",
    "# Loss and optimizer\n",
    "criterion = nn.CrossEntropyLoss()\n",
    "optimizer = torch.optim.Adam(model.parameters(), lr=0.001)\n",
    "\n",
    "# Train the model\n",
    "total_step = len(trainX)\n",
    "print(\"shape of all: {} {} {} {}\".format(trainX.shape, trainy.shape, testX.shape, testy.shape))\n",
    "\n",
    "# transformation of data into torch tensors\n",
    "trainXT = torch.from_numpy(trainX)\n",
    "trainXT = trainXT.transpose(1,2).float() #input is (N, Cin, Lin) = Ntimesteps, Nfeatures, 128\n",
    "trainyT = torch.from_numpy(trainy).float()\n",
    "testXT = torch.from_numpy(testX)\n",
    "testXT = testXT.transpose(1,2).float()\n",
    "testyT = torch.from_numpy(testy).float()\n",
    "print(\"trainXT.shape: {}, trainyT.shape: {}, testXT.shape:{}, testyT.shape:{}\".format(trainXT.shape, trainyT.shape, testXT.shape, testyT.shape))\n",
    "\n",
    "num_epochs = 50\n",
    "batch_size = 32\n",
    "\n",
    "loss_list = []\n",
    "acc_list = []\n",
    "acc_list_epoch = []\n",
    "for epoch in range(num_epochs):\n",
    "    correct_sum = 0\n",
    "    for i in range(int(np.floor(total_step/batch_size))): # split data into batches\n",
    "        trainXT_seg = trainXT[i*batch_size:(i+1)*batch_size]\n",
    "        trainyT_seg = trainyT[i*batch_size:(i+1)*batch_size]\n",
    "        # Run the forward pass\n",
    "        outputs = model(trainXT_seg)\n",
    "        loss = criterion(outputs, torch.max(trainyT_seg, 1)[1])\n",
    "        loss_list.append(loss.item())\n",
    "\n",
    "        # Backprop and perform Adam optimisation\n",
    "        optimizer.zero_grad()\n",
    "        loss.backward()\n",
    "        optimizer.step()\n",
    "        # Track the accuracy\n",
    "        total = trainyT_seg.size(0)\n",
    "        _, predicted = torch.max(outputs, 1)\n",
    "        _, actual = torch.max(trainyT_seg, 1)\n",
    "        correct = (predicted == actual).sum().item()\n",
    "        correct_sum = correct_sum + (correct/total)\n",
    "        acc_list.append(correct / total)\n",
    "    print(\"Epoch: {}\".format(epoch))\n",
    "    print(\"accuracy: {}\".format(correct_sum/int(np.floor(total_step/batch_size))))\n",
    "    acc_list_epoch.append(correct_sum/int(np.floor(total_step/batch_size)))\n",
    "\n",
    "#plot the training accuracy\n",
    "plt.title('Training Accuracy')\n",
    "plt.ylabel('Accuracy')\n",
    "plt.xlabel('Epoch')\n",
    "plt.grid(True)\n",
    "plt.autoscale(axis='x', tight=True)\n",
    "plt.plot(acc_list_epoch)\n",
    "plt.show()\n",
    "\n",
    "# Test the model\n",
    "model.eval()\n",
    "with torch.no_grad():\n",
    "    test_outputs = model(testXT)\n",
    "    _, predictedt = torch.max(test_outputs, 1)\n",
    "    _, actual = torch.max(testyT, 1)\n",
    "    total_t = testyT.size(0)\n",
    "    correct_t = (predictedt == actual).sum().item()\n",
    "    print('Test accuracy: {}'.format((correct_t/total_t)*100))"
   ]
  },
  {
   "cell_type": "markdown",
   "metadata": {},
   "source": [
    "------------------------------------------------------------------------------------------------------------"
   ]
  },
  {
   "cell_type": "code",
   "execution_count": 37,
   "metadata": {},
   "outputs": [
    {
     "name": "stdout",
     "output_type": "stream",
     "text": [
      "torch.Size([32, 35, 100])\n"
     ]
    }
   ],
   "source": [
    "# torch.nn.Conv1d(in_channels, out_channels, kernel_size, stride=1, padding=0, dilation=1, groups=1, bias=True)\n",
    "\n",
    "# in_channels: 输入的通道数\n",
    "# out_channels:输出的通道数\n",
    "# kernel_size:卷积核的大小\n",
    "# stride:每次移动卷积核的间距\n",
    "# padding:每个边padding的元素数\n",
    "# dilation:空洞卷积的参数\n",
    "# groups:分组卷积的组数\n",
    "\n",
    "conv1 = nn.Conv1d(in_channels=256, out_channels=100, kernel_size=2)\n",
    "\n",
    "# 输出的特征\n",
    "input = torch.randn(32, 35, 256)\n",
    "# 加padding是为了让卷积之后的时间维度不变\n",
    "padding = nn.ConstantPad2d((1, 0, 0, 0,), 0)\n",
    "# 由于一维卷积是对最后一维操作的，所以得转置后面两维\n",
    "input = input.transpose(2, 1)\n",
    "# 先转置，后padding，这样padding就加在了时间维度了\n",
    "input = padding(input)\n",
    "# 卷积之后还得恢复到原来的维度\n",
    "output = conv1(input).transpose(2, 1)\n",
    "print(output.shape)   # torch.Size([32, 35, 100])"
   ]
  },
  {
   "cell_type": "code",
   "execution_count": 47,
   "metadata": {},
   "outputs": [
    {
     "name": "stdout",
     "output_type": "stream",
     "text": [
      "(2947, 128)\n"
     ]
    }
   ],
   "source": [
    "import pandas as pd\n",
    "df1 = pd.read_csv(r'D:\\vscode_workspace\\PracticeLab\\IMU\\code\\dataset\\UCI HAR Dataset\\test\\Inertial Signals\\total_acc_z_test.txt', header=None, delim_whitespace=True)\n",
    "# df1 = pd.read_csv(r'D:\\vscode_workspace\\PracticeLab\\IMU_concat2.txt', header=0, sep='\\t')\n",
    "\n",
    "print(df_1.shape)"
   ]
  },
  {
   "cell_type": "code",
   "execution_count": 24,
   "metadata": {},
   "outputs": [
    {
     "data": {
      "text/html": [
       "<div>\n",
       "<style scoped>\n",
       "    .dataframe tbody tr th:only-of-type {\n",
       "        vertical-align: middle;\n",
       "    }\n",
       "\n",
       "    .dataframe tbody tr th {\n",
       "        vertical-align: top;\n",
       "    }\n",
       "\n",
       "    .dataframe thead th {\n",
       "        text-align: right;\n",
       "    }\n",
       "</style>\n",
       "<table border=\"1\" class=\"dataframe\">\n",
       "  <thead>\n",
       "    <tr style=\"text-align: right;\">\n",
       "      <th></th>\n",
       "      <th>A-x</th>\n",
       "      <th>A-y</th>\n",
       "      <th>A-z</th>\n",
       "      <th>W-x</th>\n",
       "      <th>W-y</th>\n",
       "      <th>W-z</th>\n",
       "      <th>user</th>\n",
       "      <th>type</th>\n",
       "    </tr>\n",
       "  </thead>\n",
       "  <tbody>\n",
       "    <tr>\n",
       "      <th>0</th>\n",
       "      <td>-0.3320</td>\n",
       "      <td>1.1172</td>\n",
       "      <td>0.1133</td>\n",
       "      <td>-2.8099</td>\n",
       "      <td>-1.6406</td>\n",
       "      <td>0.5236</td>\n",
       "      <td>1</td>\n",
       "      <td>up stairs</td>\n",
       "    </tr>\n",
       "    <tr>\n",
       "      <th>1</th>\n",
       "      <td>-0.1016</td>\n",
       "      <td>0.9063</td>\n",
       "      <td>-0.1094</td>\n",
       "      <td>-2.7925</td>\n",
       "      <td>-2.1118</td>\n",
       "      <td>0.6632</td>\n",
       "      <td>1</td>\n",
       "      <td>up stairs</td>\n",
       "    </tr>\n",
       "    <tr>\n",
       "      <th>2</th>\n",
       "      <td>0.1328</td>\n",
       "      <td>0.8359</td>\n",
       "      <td>-0.1133</td>\n",
       "      <td>-2.5132</td>\n",
       "      <td>-2.5656</td>\n",
       "      <td>0.6981</td>\n",
       "      <td>1</td>\n",
       "      <td>up stairs</td>\n",
       "    </tr>\n",
       "  </tbody>\n",
       "</table>\n",
       "</div>"
      ],
      "text/plain": [
       "      A-x     A-y     A-z     W-x     W-y     W-z  user       type\n",
       "0 -0.3320  1.1172  0.1133 -2.8099 -1.6406  0.5236     1  up stairs\n",
       "1 -0.1016  0.9063 -0.1094 -2.7925 -2.1118  0.6632     1  up stairs\n",
       "2  0.1328  0.8359 -0.1133 -2.5132 -2.5656  0.6981     1  up stairs"
      ]
     },
     "execution_count": 24,
     "metadata": {},
     "output_type": "execute_result"
    }
   ],
   "source": [
    "df_1.head(3)"
   ]
  },
  {
   "cell_type": "code",
   "execution_count": 25,
   "metadata": {},
   "outputs": [
    {
     "data": {
      "text/plain": [
       "array([[-0.332, 1.1172, 0.1133, -2.8099, -1.6406, 0.5236, 1, 'up stairs'],\n",
       "       [-0.1016, 0.9063, -0.1094, -2.7925, -2.1118, 0.6632, 1,\n",
       "        'up stairs'],\n",
       "       [0.1328, 0.8359, -0.1133, -2.5132, -2.5656, 0.6981, 1,\n",
       "        'up stairs']], dtype=object)"
      ]
     },
     "execution_count": 25,
     "metadata": {},
     "output_type": "execute_result"
    }
   ],
   "source": [
    "df1.values[0:3]"
   ]
  },
  {
   "cell_type": "code",
   "execution_count": 33,
   "metadata": {},
   "outputs": [
    {
     "name": "stdout",
     "output_type": "stream",
     "text": [
      "(2, 3)\n"
     ]
    },
    {
     "data": {
      "text/plain": [
       "2"
      ]
     },
     "execution_count": 33,
     "metadata": {},
     "output_type": "execute_result"
    }
   ],
   "source": [
    "t_list = list()\n",
    "\n",
    "t_list.append(df1.type[0:3])\n",
    "t_list.append(df1.type[3:6])\n",
    "\n",
    "print(np.shape(t_list))\n",
    "len(t_list)"
   ]
  },
  {
   "cell_type": "code",
   "execution_count": 35,
   "metadata": {},
   "outputs": [
    {
     "name": "stdout",
     "output_type": "stream",
     "text": [
      "(2, 3)\n"
     ]
    },
    {
     "data": {
      "text/plain": [
       "2"
      ]
     },
     "execution_count": 35,
     "metadata": {},
     "output_type": "execute_result"
    }
   ],
   "source": [
    "t_list = list()\n",
    "\n",
    "t_list.append(df1['type'].values[0:3])\n",
    "t_list.append(df1['type'].values[3:6])\n",
    "print(np.shape(t_list))\n",
    "\n",
    "len(t_list)"
   ]
  },
  {
   "cell_type": "code",
   "execution_count": 43,
   "metadata": {},
   "outputs": [
    {
     "ename": "ValueError",
     "evalue": "cannot select an axis to squeeze out which has size not equal to one",
     "output_type": "error",
     "traceback": [
      "\u001b[1;31m---------------------------------------------------------------------------\u001b[0m",
      "\u001b[1;31mValueError\u001b[0m                                Traceback (most recent call last)",
      "Cell \u001b[1;32mIn [43], line 1\u001b[0m\n\u001b[1;32m----> 1\u001b[0m \u001b[43mnp\u001b[49m\u001b[38;5;241;43m.\u001b[39;49m\u001b[43marray\u001b[49m\u001b[43m(\u001b[49m\u001b[43mt_list\u001b[49m\u001b[43m)\u001b[49m\u001b[38;5;241;43m.\u001b[39;49m\u001b[43msqueeze\u001b[49m\u001b[43m(\u001b[49m\u001b[38;5;241;43m-\u001b[39;49m\u001b[38;5;241;43m1\u001b[39;49m\u001b[43m)\u001b[49m\n",
      "\u001b[1;31mValueError\u001b[0m: cannot select an axis to squeeze out which has size not equal to one"
     ]
    }
   ],
   "source": [
    "np.array(t_list).squeeze(-1)"
   ]
  },
  {
   "cell_type": "code",
   "execution_count": null,
   "metadata": {},
   "outputs": [],
   "source": [
    "import numpy as np\n",
    "from scipy import stats\n",
    "\n",
    "from sklearn.preprocessing import LabelEncoder\n",
    "from sklearn.model_selection import train_test_split\n",
    "\n",
    "df_train ,df_test = train_test_split(df1, test_size=0.3, random_state=42)\n",
    "\n",
    "label_encoder = LabelEncoder()\n",
    "# y_train = label_encoder.fit_transform(df_train.type)\n",
    "# y_test = label_encoder.fit_transform(df_test.type)\n",
    "\n",
    "# y_train, y_test, df_train.shape, y_train.shape, df_test.shape, y_test.shape\n",
    "\n",
    "X_train_list = list()\n",
    "X_test_list = list()\n",
    "y_train_list = list()\n",
    "y_test_list = list()\n",
    "\n",
    "train_labels = []\n",
    "test_labels = []\n",
    "\n",
    "window_size = 96\n",
    "step_size = 48 # 50% overlaped\n",
    "\n",
    "# creating overlaping windows of size window-size 100\n",
    "for i in range(0, df_train.shape[0] - window_size, step_size):\n",
    "    xlist = pd.DataFrame(df_train.values[i: i + 96])\n",
    "    # W_xs = df_train['W-x'].values[i: i + 96]\n",
    "    # train_label = stats.mode(df_train['type'][i: i + 96])[0][0]\n",
    "    train_label = pd.DataFrame(df_train['type'][i: i + 96])\n",
    "\n",
    "    X_train_list.append(xlist)\n",
    "    train_labels.append(train_label)"
   ]
  },
  {
   "cell_type": "code",
   "execution_count": null,
   "metadata": {},
   "outputs": [],
   "source": [
    "for i in range(0, df_test.shape[0] - window_size, step_size):\n",
    "    xlist = df_test.values[i: i + 96].values\n",
    "    # W_xs = df_train['W-x'].values[i: i + 96]\n",
    "    test_label = stats.mode(df_test['type'][i: i + 96])[0][0]\n",
    "\n",
    "    X_test_list.append(xlist)\n",
    "    test_labels.append(test_label)\n",
    "\n",
    "np.shape(X_train_list), np.shape(y_train_list), np.shape(X_test_list), np.shape(y_test_list)"
   ]
  },
  {
   "cell_type": "code",
   "execution_count": 10,
   "metadata": {},
   "outputs": [
    {
     "data": {
      "text/plain": [
       "((1352580,), (1352580, 6))"
      ]
     },
     "execution_count": 10,
     "metadata": {},
     "output_type": "execute_result"
    }
   ],
   "source": [
    "df1.columns\n",
    "\n",
    "df_y = df1['type']\n",
    "df2 = df1.drop(labels='type', axis=1)\n",
    "df2 = df2.drop(labels='user', axis=1)\n",
    "df_y.shape, df2.shape"
   ]
  },
  {
   "cell_type": "code",
   "execution_count": 13,
   "metadata": {},
   "outputs": [
    {
     "data": {
      "text/plain": [
       "Index(['A-x', 'A-y', 'A-z', 'W-x', 'W-y', 'W-z'], dtype='object')"
      ]
     },
     "execution_count": 13,
     "metadata": {},
     "output_type": "execute_result"
    }
   ],
   "source": [
    "df2.columns"
   ]
  },
  {
   "cell_type": "code",
   "execution_count": 23,
   "metadata": {},
   "outputs": [
    {
     "name": "stdout",
     "output_type": "stream",
     "text": [
      "<class 'numpy.ndarray'>\n",
      "<class 'numpy.ndarray'>\n",
      "<class 'numpy.ndarray'>\n",
      "<class 'numpy.ndarray'>\n",
      "<class 'numpy.ndarray'>\n",
      "<class 'numpy.ndarray'>\n",
      "loaded.shape:(6, 1352580)\n",
      "after dstack:(1, 1352580, 6)\n"
     ]
    }
   ],
   "source": [
    "import numpy as np\n",
    "loaded = list()\n",
    "for name in df2.columns:\n",
    "    # print(type(pd.DataFrame(df2[name]).values))\n",
    "    print(type(df2[name].values))\n",
    "    # data = pd.DataFrame(df2[name]).values\n",
    "    data = df2[name].values\n",
    "    loaded.append(data)\n",
    "print('loaded.shape:{}'.format(np.shape(loaded)))\n",
    "loaded = np.dstack(loaded)\n",
    "print('after dstack:{}'.format(np.shape(loaded)))"
   ]
  },
  {
   "cell_type": "code",
   "execution_count": null,
   "metadata": {},
   "outputs": [],
   "source": [
    "conv1 = nn.Conv1d(in_channels=256,out_channels=100,kernel_size=2)\n",
    "# input = torch.randn(32, 100, 6)\n",
    "input = torch.randn(32,35,256)  # 32 256 35\n",
    "# batch_size x text_len x embedding_size -> batch_size x embedding_size x text_len\n",
    "input = input.permute(0,2,1)\n",
    "out = conv1(input)\n",
    "print(out.size())"
   ]
  },
  {
   "cell_type": "code",
   "execution_count": null,
   "metadata": {},
   "outputs": [],
   "source": [
    "import math\n",
    "import warnings\n",
    "import numpy as np\n",
    "import torch.optim\n",
    "from matplotlib import pyplot as plt\n",
    "from sklearn.metrics import confusion_matrix\n",
    "from sklearn.preprocessing import LabelEncoder\n",
    "import pandas as pd\n",
    "from torch import nn\n",
    "from torch.utils.data import DataLoader\n",
    "from torch.utils.tensorboard import SummaryWriter\n",
    "\n",
    "warnings.simplefilter(action='ignore', category=RuntimeWarning)\n",
    "torch.manual_seed(2022)\n",
    "# np.random.seed(2022) # np的随机性。\n",
    "# random.seed(2022) # python的随机性\n",
    "\n",
    "#########\n",
    "#本实验中的G-mean是我的评价指标\n",
    "#########\n",
    "class Tudui(nn.Module):\n",
    "    def __init__(self):\n",
    "        super(Tudui, self).__init__()\n",
    "        self.model1 = nn.Sequential(\n",
    "            nn.Conv1d(1, 16, 2),\n",
    "            nn.ReLU(),\n",
    "            nn.MaxPool1d(2),  # torch.Size([128, 16, 5])\n",
    "            nn.Conv1d(16, 32, 2),\n",
    "            nn.ReLU(),\n",
    "            nn.MaxPool1d(4),  # torch.Size([128, 32, 1])\n",
    "            nn.Flatten(),  # torch.Size([128, 32])    (假如上一步的结果为[128, 32, 2]， 那么铺平之后就是[128, 64])\n",
    "        )\n",
    "        self.model2 = nn.Sequential(\n",
    "            nn.Linear(in_features=32, out_features=2, bias=True),\n",
    "            nn.Sigmoid()\n",
    "        )\n",
    "\n",
    "    def forward(self, input):\n",
    "        input = input.reshape(-1,1,11)   #结果为[128,1,11]  目的是把二维变为三维数据\n",
    "        x = self.model1(input)\n",
    "        x = self.model2(x)\n",
    "        return x\n",
    "\n",
    "data = pd.read_csv(\"../dataset/train.csv\")\n",
    "dataset = data.values\n",
    "X_train = dataset[:,1:12].astype(float)\n",
    "Y_train = dataset[:,0:1]\n",
    "encoder = LabelEncoder()\n",
    "Y_train = encoder.fit_transform(Y_train.ravel())\n",
    "\n",
    "X_train, Y_train = torch.FloatTensor(X_train), torch.LongTensor(Y_train)\n",
    "train_dataset =  torch.utils.data.TensorDataset(X_train, Y_train)\n",
    "\n",
    "\n",
    "data = pd.read_csv(\"../dataset/test.csv\")\n",
    "dataset = data.values\n",
    "X_test = dataset[:,1:12].astype(float)\n",
    "Y_test = dataset[:,0:1]\n",
    "encoder = LabelEncoder()\n",
    "Y_test = encoder.fit_transform(Y_test.ravel())\n",
    "X_test, Y_test = torch.FloatTensor(X_test), torch.LongTensor(Y_test)\n",
    "test_dataset =  torch.utils.data.TensorDataset(X_test, Y_test)\n",
    "test_loader = DataLoader(dataset=test_dataset, batch_size=4444, shuffle=True)\n",
    "\n",
    "tudui = Tudui()\n",
    "loss_function = nn.CrossEntropyLoss()\n",
    "\n",
    "epochs = 1000\n",
    "learning_rate = 0.001\n",
    "optim = torch.optim.Adam(tudui.parameters(), lr=learning_rate)\n",
    "\n",
    "\n",
    "for i in range(epochs):\n",
    "    print(\"--------第{}轮训练开始---------\".format(i+1))\n",
    "    total_G_mean = 0\n",
    "\n",
    "    train_loader = DataLoader(dataset=train_dataset, batch_size=128, shuffle=True)\n",
    "    tudui.train()\n",
    "    for data in train_loader:\n",
    "        X_data, Y_data = data[0], data[1]\n",
    "        output = tudui(X_data)\n",
    "        loss = loss_function(output, Y_data)\n",
    "        optim.zero_grad()\n",
    "        loss.backward()\n",
    "        optim.step()\n",
    "\n",
    "        pred = output.argmax(axis=1)\n",
    "        matrix = confusion_matrix(Y_data, pred)\n",
    "        TN = matrix[0][0]\n",
    "        FP = matrix[0][1]\n",
    "        FN = matrix[1][0]\n",
    "        TP = matrix[1][1]\n",
    "\n",
    "        FDR = TP / (TP + FN)\n",
    "        FAR = FP / (FP + TN)\n",
    "        P = TN / (TN + FP)\n",
    "        G_mean = math.sqrt(FDR * P)\n",
    "        if np.isnan(G_mean):\n",
    "            G_mean = 0.0\n",
    "\n",
    "        total_G_mean = total_G_mean + G_mean\n",
    "\n",
    "    length = len(train_loader)\n",
    "    total_G_mean = total_G_mean / length\n",
    "    print(\"G-mean为{:.4f}\".format(total_G_mean))\n",
    "\n",
    "\n",
    "# 验证数据\n",
    "    if (i + 1) % 10 == 0:\n",
    "        G_mean_test = 0\n",
    "        total_G_mean_test = 0\n",
    "        total_FDR = 0\n",
    "        total_FAR = 0\n",
    "        tudui.eval()\n",
    "        with torch.no_grad():\n",
    "            for test in test_loader:\n",
    "                X_test_data, Y_test_data = test[0], test[1]\n",
    "                out = tudui(X_test_data)\n",
    "                loss = loss_function(out, Y_test_data)\n",
    "\n",
    "                pred_test = out.argmax(axis=1)\n",
    "                matrix = confusion_matrix(Y_test_data, pred_test)\n",
    "                TN = matrix[0][0]\n",
    "                FP = matrix[0][1]\n",
    "                FN = matrix[1][0]\n",
    "                TP = matrix[1][1]\n",
    "                FDR = TP / (TP + FN)\n",
    "                FAR = FP / (FP + TN)\n",
    "                P = TN / (TN + FP)\n",
    "                G_mean_test = math.sqrt(FDR * P)\n",
    "                if np.isnan(G_mean_test):\n",
    "                    G_mean_test = 0.0\n",
    "                total_G_mean_test = total_G_mean_test + G_mean_test\n",
    "\n",
    "        total_G_mean_test = total_G_mean_test / len(test_loader)\n",
    "\n",
    "        print(\"**********************验证数据***********************\")\n",
    "        print(\"G-mean在测试集上的表现为{:.4f}\".format(total_G_mean_test))"
   ]
  },
  {
   "cell_type": "markdown",
   "metadata": {},
   "source": [
    "------------------------------------------------------------------------------------------"
   ]
  },
  {
   "cell_type": "code",
   "execution_count": 2,
   "metadata": {},
   "outputs": [
    {
     "name": "stdout",
     "output_type": "stream",
     "text": [
      "(4280, 946)\n"
     ]
    }
   ],
   "source": [
    "import pandas as pd\n",
    "df_test = pd.read_csv(r'C:\\Users\\Lee\\Desktop\\新建文件夹\\01-SQUAT-1Char00.calc',header=2,delim_whitespace=True)\n",
    "\n",
    "print(df_test.shape)"
   ]
  },
  {
   "cell_type": "code",
   "execution_count": null,
   "metadata": {},
   "outputs": [],
   "source": [
    "for i in df_test.columns:\n",
    "    if int(i.partition('-')[0]) < 3:\n",
    "        print(int(i.partition('-')[0]))"
   ]
  },
  {
   "cell_type": "code",
   "execution_count": 9,
   "metadata": {},
   "outputs": [
    {
     "data": {
      "text/html": [
       "<div>\n",
       "<style scoped>\n",
       "    .dataframe tbody tr th:only-of-type {\n",
       "        vertical-align: middle;\n",
       "    }\n",
       "\n",
       "    .dataframe tbody tr th {\n",
       "        vertical-align: top;\n",
       "    }\n",
       "\n",
       "    .dataframe thead th {\n",
       "        text-align: right;\n",
       "    }\n",
       "</style>\n",
       "<table border=\"1\" class=\"dataframe\">\n",
       "  <thead>\n",
       "    <tr style=\"text-align: right;\">\n",
       "      <th></th>\n",
       "      <th>01-X-x</th>\n",
       "      <th>01-X-y</th>\n",
       "      <th>01-X-z</th>\n",
       "      <th>01-V-x</th>\n",
       "      <th>01-V-y</th>\n",
       "      <th>01-V-z</th>\n",
       "      <th>01-Q-s</th>\n",
       "      <th>01-Q-x</th>\n",
       "      <th>01-Q-y</th>\n",
       "      <th>01-Q-z</th>\n",
       "      <th>...</th>\n",
       "      <th>59-Q-s</th>\n",
       "      <th>59-Q-x</th>\n",
       "      <th>59-Q-y</th>\n",
       "      <th>59-Q-z</th>\n",
       "      <th>59-A-x</th>\n",
       "      <th>59-A-y</th>\n",
       "      <th>59-A-z</th>\n",
       "      <th>59-W-x</th>\n",
       "      <th>59-W-y</th>\n",
       "      <th>59-W-z</th>\n",
       "    </tr>\n",
       "  </thead>\n",
       "  <tbody>\n",
       "    <tr>\n",
       "      <th>0</th>\n",
       "      <td>-0.1168</td>\n",
       "      <td>-0.4231</td>\n",
       "      <td>0.9293</td>\n",
       "      <td>0.0046</td>\n",
       "      <td>-0.0010</td>\n",
       "      <td>-2.8744</td>\n",
       "      <td>-0.0094</td>\n",
       "      <td>-0.0314</td>\n",
       "      <td>-0.6173</td>\n",
       "      <td>-0.7861</td>\n",
       "      <td>...</td>\n",
       "      <td>1.0</td>\n",
       "      <td>0.0</td>\n",
       "      <td>0.0</td>\n",
       "      <td>0.0</td>\n",
       "      <td>0.0</td>\n",
       "      <td>0.0</td>\n",
       "      <td>0.0</td>\n",
       "      <td>0.0</td>\n",
       "      <td>0.0</td>\n",
       "      <td>0.0</td>\n",
       "    </tr>\n",
       "    <tr>\n",
       "      <th>1</th>\n",
       "      <td>-0.1168</td>\n",
       "      <td>-0.4231</td>\n",
       "      <td>0.9293</td>\n",
       "      <td>0.0038</td>\n",
       "      <td>-0.0011</td>\n",
       "      <td>-2.8741</td>\n",
       "      <td>-0.0094</td>\n",
       "      <td>-0.0314</td>\n",
       "      <td>-0.6173</td>\n",
       "      <td>-0.7861</td>\n",
       "      <td>...</td>\n",
       "      <td>1.0</td>\n",
       "      <td>0.0</td>\n",
       "      <td>0.0</td>\n",
       "      <td>0.0</td>\n",
       "      <td>0.0</td>\n",
       "      <td>0.0</td>\n",
       "      <td>0.0</td>\n",
       "      <td>0.0</td>\n",
       "      <td>0.0</td>\n",
       "      <td>0.0</td>\n",
       "    </tr>\n",
       "    <tr>\n",
       "      <th>2</th>\n",
       "      <td>-0.1168</td>\n",
       "      <td>-0.4231</td>\n",
       "      <td>0.9294</td>\n",
       "      <td>-0.0041</td>\n",
       "      <td>-0.0009</td>\n",
       "      <td>-2.8694</td>\n",
       "      <td>-0.0082</td>\n",
       "      <td>-0.0315</td>\n",
       "      <td>-0.6171</td>\n",
       "      <td>-0.7862</td>\n",
       "      <td>...</td>\n",
       "      <td>1.0</td>\n",
       "      <td>0.0</td>\n",
       "      <td>0.0</td>\n",
       "      <td>0.0</td>\n",
       "      <td>0.0</td>\n",
       "      <td>0.0</td>\n",
       "      <td>0.0</td>\n",
       "      <td>0.0</td>\n",
       "      <td>0.0</td>\n",
       "      <td>0.0</td>\n",
       "    </tr>\n",
       "    <tr>\n",
       "      <th>3</th>\n",
       "      <td>-0.1168</td>\n",
       "      <td>-0.4231</td>\n",
       "      <td>0.9293</td>\n",
       "      <td>0.0029</td>\n",
       "      <td>-0.0013</td>\n",
       "      <td>-2.8719</td>\n",
       "      <td>-0.0083</td>\n",
       "      <td>-0.0315</td>\n",
       "      <td>-0.6171</td>\n",
       "      <td>-0.7862</td>\n",
       "      <td>...</td>\n",
       "      <td>1.0</td>\n",
       "      <td>0.0</td>\n",
       "      <td>0.0</td>\n",
       "      <td>0.0</td>\n",
       "      <td>0.0</td>\n",
       "      <td>0.0</td>\n",
       "      <td>0.0</td>\n",
       "      <td>0.0</td>\n",
       "      <td>0.0</td>\n",
       "      <td>0.0</td>\n",
       "    </tr>\n",
       "    <tr>\n",
       "      <th>4</th>\n",
       "      <td>-0.1167</td>\n",
       "      <td>-0.4231</td>\n",
       "      <td>0.9293</td>\n",
       "      <td>0.0027</td>\n",
       "      <td>-0.0012</td>\n",
       "      <td>-2.8708</td>\n",
       "      <td>-0.0083</td>\n",
       "      <td>-0.0317</td>\n",
       "      <td>-0.6170</td>\n",
       "      <td>-0.7863</td>\n",
       "      <td>...</td>\n",
       "      <td>1.0</td>\n",
       "      <td>0.0</td>\n",
       "      <td>0.0</td>\n",
       "      <td>0.0</td>\n",
       "      <td>0.0</td>\n",
       "      <td>0.0</td>\n",
       "      <td>0.0</td>\n",
       "      <td>0.0</td>\n",
       "      <td>0.0</td>\n",
       "      <td>0.0</td>\n",
       "    </tr>\n",
       "  </tbody>\n",
       "</table>\n",
       "<p>5 rows × 946 columns</p>\n",
       "</div>"
      ],
      "text/plain": [
       "   01-X-x  01-X-y  01-X-z  01-V-x  01-V-y  01-V-z  01-Q-s  01-Q-x  01-Q-y  \\\n",
       "0 -0.1168 -0.4231  0.9293  0.0046 -0.0010 -2.8744 -0.0094 -0.0314 -0.6173   \n",
       "1 -0.1168 -0.4231  0.9293  0.0038 -0.0011 -2.8741 -0.0094 -0.0314 -0.6173   \n",
       "2 -0.1168 -0.4231  0.9294 -0.0041 -0.0009 -2.8694 -0.0082 -0.0315 -0.6171   \n",
       "3 -0.1168 -0.4231  0.9293  0.0029 -0.0013 -2.8719 -0.0083 -0.0315 -0.6171   \n",
       "4 -0.1167 -0.4231  0.9293  0.0027 -0.0012 -2.8708 -0.0083 -0.0317 -0.6170   \n",
       "\n",
       "   01-Q-z  ...  59-Q-s  59-Q-x  59-Q-y  59-Q-z  59-A-x  59-A-y  59-A-z  \\\n",
       "0 -0.7861  ...     1.0     0.0     0.0     0.0     0.0     0.0     0.0   \n",
       "1 -0.7861  ...     1.0     0.0     0.0     0.0     0.0     0.0     0.0   \n",
       "2 -0.7862  ...     1.0     0.0     0.0     0.0     0.0     0.0     0.0   \n",
       "3 -0.7862  ...     1.0     0.0     0.0     0.0     0.0     0.0     0.0   \n",
       "4 -0.7863  ...     1.0     0.0     0.0     0.0     0.0     0.0     0.0   \n",
       "\n",
       "   59-W-x  59-W-y  59-W-z  \n",
       "0     0.0     0.0     0.0  \n",
       "1     0.0     0.0     0.0  \n",
       "2     0.0     0.0     0.0  \n",
       "3     0.0     0.0     0.0  \n",
       "4     0.0     0.0     0.0  \n",
       "\n",
       "[5 rows x 946 columns]"
      ]
     },
     "execution_count": 9,
     "metadata": {},
     "output_type": "execute_result"
    }
   ],
   "source": [
    "df_test.head()"
   ]
  },
  {
   "cell_type": "code",
   "execution_count": null,
   "metadata": {},
   "outputs": [],
   "source": []
  }
 ],
 "metadata": {
  "kernelspec": {
   "display_name": "Python 3.10.1 64-bit",
   "language": "python",
   "name": "python3"
  },
  "language_info": {
   "codemirror_mode": {
    "name": "ipython",
    "version": 3
   },
   "file_extension": ".py",
   "mimetype": "text/x-python",
   "name": "python",
   "nbconvert_exporter": "python",
   "pygments_lexer": "ipython3",
   "version": "3.10.1"
  },
  "orig_nbformat": 4,
  "vscode": {
   "interpreter": {
    "hash": "865d8b2eb28e274047ba64063dfb6a2aabf0dfec4905d304d7a76618dae6fdd4"
   }
  }
 },
 "nbformat": 4,
 "nbformat_minor": 2
}
